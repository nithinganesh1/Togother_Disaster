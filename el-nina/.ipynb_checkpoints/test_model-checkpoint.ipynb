{
 "cells": [
  {
   "cell_type": "code",
   "execution_count": 1,
   "id": "09fbb7c7-951c-4362-a640-d2f226903797",
   "metadata": {},
   "outputs": [
    {
     "name": "stdout",
     "output_type": "stream",
     "text": [
      "WARNING:tensorflow:From C:\\Users\\HP\\anaconda3\\Lib\\site-packages\\keras\\src\\losses.py:2976: The name tf.losses.sparse_softmax_cross_entropy is deprecated. Please use tf.compat.v1.losses.sparse_softmax_cross_entropy instead.\n",
      "\n",
      "WARNING:tensorflow:From C:\\Users\\HP\\anaconda3\\Lib\\site-packages\\keras\\src\\backend.py:1398: The name tf.executing_eagerly_outside_functions is deprecated. Please use tf.compat.v1.executing_eagerly_outside_functions instead.\n",
      "\n",
      "WARNING:tensorflow:From C:\\Users\\HP\\anaconda3\\Lib\\site-packages\\keras\\src\\optimizers\\__init__.py:309: The name tf.train.Optimizer is deprecated. Please use tf.compat.v1.train.Optimizer instead.\n",
      "\n"
     ]
    }
   ],
   "source": [
    "from tensorflow.keras.models import load_model\n",
    "\n",
    "# Load the saved model\n",
    "model = load_model('my_model.keras')"
   ]
  },
  {
   "cell_type": "code",
   "execution_count": 5,
   "id": "110774ae-4a59-420d-b0a4-2ddc6fed1461",
   "metadata": {},
   "outputs": [],
   "source": [
    "import numpy as np\n",
    "from tensorflow.keras.models import load_model\n",
    "\n",
    "def predict_for_year(target_year, last_trained_year=2017, last_trained_month=12, model_path='my_model.keras'):\n",
    "    \"\"\"\n",
    "    Predict values for a given target year based on the last trained year and month.\n",
    "    This function assumes the input to the model is a 3D array of shape (batch_size, sequence_length, features).\n",
    "    \"\"\"\n",
    "    # Load the trained model\n",
    "    model = load_model(model_path)\n",
    "\n",
    "    # Initialize input data with the correct shape (1, 60, 1) - adjust as necessary\n",
    "    input_data = np.zeros((1, 60, 1))  # Initialize with zeros or your last known values\n",
    "\n",
    "    # Fill in the initial known values (if available)\n",
    "    initial_values = [0.1, 0.2, 0.3, 0.4, 0.5]  # Example known values\n",
    "    input_data[0, -len(initial_values):, 0] = initial_values  # Place initial values in the last positions\n",
    "\n",
    "    current_year = last_trained_year\n",
    "    current_month = last_trained_month\n",
    "    predictions = []\n",
    "\n",
    "    while current_year < target_year or (current_year == target_year and current_month < 12):\n",
    "        # Predict the next value\n",
    "        predicted_scaled_value = model.predict(input_data, verbose=0)\n",
    "\n",
    "        # Reshape the predicted value to match the shape of input_data (batch_size=1, sequence_length=1, features=1)\n",
    "        predicted_scaled_value = np.reshape(predicted_scaled_value, (1, 1, 1))\n",
    "\n",
    "        # Append the prediction to the list of predictions\n",
    "        predictions.append(predicted_scaled_value[0, 0, 0])\n",
    "\n",
    "        # Update input data with the new prediction, sliding the window forward\n",
    "        input_data = np.append(input_data[:, 1:, :], predicted_scaled_value, axis=1)\n",
    "\n",
    "        # Update the current year and month\n",
    "        current_month += 1\n",
    "        if current_month > 12:\n",
    "            current_month = 1\n",
    "            current_year += 1\n",
    "\n",
    "    return predictions[-1]\n"
   ]
  },
  {
   "cell_type": "code",
   "execution_count": 8,
   "id": "3373fa7b-7423-4086-ace3-5e4321013e94",
   "metadata": {},
   "outputs": [
    {
     "name": "stdin",
     "output_type": "stream",
     "text": [
      "enter year > 2017 2021\n"
     ]
    }
   ],
   "source": [
    "target_year = int(input(\"enter year > 2017\"))\n",
    "predicted_value_2024 = predict_for_year(target_year)"
   ]
  },
  {
   "cell_type": "code",
   "execution_count": 9,
   "id": "c70944ef-58f4-4a14-a652-6ec6921e75b0",
   "metadata": {},
   "outputs": [
    {
     "name": "stdout",
     "output_type": "stream",
     "text": [
      "0.6739013\n",
      "2021 is Weak El-Nino\n"
     ]
    }
   ],
   "source": [
    "print(predicted_value_2024)\n",
    "\n",
    "if predicted_value_2024 >= 0.5 and predicted_value_2024 <= 0.9:\n",
    "    print(target_year, 'is Weak El-Nino')\n",
    "elif predicted_value_2024 >= 1.0 and predicted_value_2024 <= 1.4:\n",
    "    print(target_year, 'is Moderate El-Nino')\n",
    "elif predicted_value_2024 >= 1.5 and predicted_value_2024 <= 1.9:\n",
    "    print(target_year, 'is Strong El-Nino')\n",
    "elif predicted_value_2024 >= 2:\n",
    "    print(target_year, 'is Very Strong El-Nino')\n",
    "elif predicted_value_2024 <= -0.5 and predicted_value_2024 >= -0.9:\n",
    "    print(target_year, 'is Weak La-Nina')\n",
    "elif predicted_value_2024 <= -1.0 and predicted_value_2024 >= -1.4:\n",
    "    print(target_year, 'is Moderate La-Nina')\n",
    "elif predicted_value_2024 <= -1.5:\n",
    "    print(target_year, 'is Strong La-Nina')\n",
    "else:\n",
    "    print(target_year, 'is a Neutral Year')  "
   ]
  }
 ],
 "metadata": {
  "kernelspec": {
   "display_name": "Python 3 (ipykernel)",
   "language": "python",
   "name": "python3"
  },
  "language_info": {
   "codemirror_mode": {
    "name": "ipython",
    "version": 3
   },
   "file_extension": ".py",
   "mimetype": "text/x-python",
   "name": "python",
   "nbconvert_exporter": "python",
   "pygments_lexer": "ipython3",
   "version": "3.11.5"
  }
 },
 "nbformat": 4,
 "nbformat_minor": 5
}

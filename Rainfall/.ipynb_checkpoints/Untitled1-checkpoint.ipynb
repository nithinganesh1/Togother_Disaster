{
 "cells": [
  {
   "cell_type": "code",
   "execution_count": 2,
   "id": "aeee866f-2f02-4d86-bde6-1e981e88ecae",
   "metadata": {},
   "outputs": [
    {
     "name": "stdout",
     "output_type": "stream",
     "text": [
      "WARNING:tensorflow:From C:\\Users\\HP\\anaconda3\\Lib\\site-packages\\keras\\src\\losses.py:2976: The name tf.losses.sparse_softmax_cross_entropy is deprecated. Please use tf.compat.v1.losses.sparse_softmax_cross_entropy instead.\n",
      "\n",
      "WARNING:tensorflow:From C:\\Users\\HP\\anaconda3\\Lib\\site-packages\\keras\\src\\backend.py:1398: The name tf.executing_eagerly_outside_functions is deprecated. Please use tf.compat.v1.executing_eagerly_outside_functions instead.\n",
      "\n",
      "WARNING:tensorflow:From C:\\Users\\HP\\anaconda3\\Lib\\site-packages\\keras\\src\\optimizers\\__init__.py:309: The name tf.train.Optimizer is deprecated. Please use tf.compat.v1.train.Optimizer instead.\n",
      "\n"
     ]
    }
   ],
   "source": [
    "import joblib\n",
    "from tensorflow.keras.models import load_model\n",
    "scaler = joblib.load('scaler.save')\n",
    "model = load_model('rain_model.keras')"
   ]
  },
  {
   "cell_type": "code",
   "execution_count": 8,
   "id": "3a86aa29-2142-4257-91c2-5a83a9043b1a",
   "metadata": {},
   "outputs": [
    {
     "name": "stdout",
     "output_type": "stream",
     "text": [
      "1/1 [==============================] - 0s 52ms/step\n",
      "Predicted rainfall for 2014-04: 30.21472930908203\n"
     ]
    }
   ],
   "source": [
    "import pandas as pd\n",
    "import numpy as np\n",
    "from sklearn.preprocessing import MinMaxScaler\n",
    "\n",
    "# Load the rainfall data from CSV\n",
    "last_month_data = pd.read_csv('last_60_rainfall_data.csv', index_col=0)\n",
    "\n",
    "# Normalize the data using Min-Max scaling\n",
    "scaler = MinMaxScaler()\n",
    "normalized_data = scaler.fit_transform(last_month_data)\n",
    "\n",
    "# Select the last 60 months of normalized data\n",
    "last_60_normalized = normalized_data[-60:].flatten()  # Flatten to make it 1D array\n",
    "\n",
    "# Function to predict rainfall for a specific year and month\n",
    "def predict_rainfall_with_year_month(model, scaler, last_60_normalized, year, month):\n",
    "    # Normalizing the input year and month\n",
    "    max_year = 2050  \n",
    "    min_year = 2006 \n",
    "    \n",
    "    year_norm = (year - min_year) / (max_year - min_year)  \n",
    "    month_norm = month / 12  \n",
    "\n",
    "    # Prepare input sequence for the model\n",
    "    input_sequence = last_60_normalized.reshape(1, 60, 1)  # Reshape to (1, 60, 1)\n",
    "\n",
    "    # Predict rainfall using the last 60 months of data\n",
    "    predicted_scaled = model.predict(input_sequence)\n",
    "    \n",
    "    # Convert predicted rainfall back to original scale\n",
    "    predicted_value = scaler.inverse_transform(predicted_scaled)[0][0]\n",
    "\n",
    "    # Optionally print year and month for clarity\n",
    "    print(f\"Predicted rainfall for {year}-{month:02}: {predicted_value}\")\n",
    "    return predicted_value\n",
    "\n",
    "# Example usage for predicting rainfall in March 2014\n",
    "predicted_rainfall = predict_rainfall_with_year_month(model, scaler, last_60_normalized, 2014, 4)\n"
   ]
  },
  {
   "cell_type": "code",
   "execution_count": null,
   "id": "c51a12c3-d439-4bf5-abb9-ac09abc6d155",
   "metadata": {},
   "outputs": [],
   "source": []
  }
 ],
 "metadata": {
  "kernelspec": {
   "display_name": "Python 3 (ipykernel)",
   "language": "python",
   "name": "python3"
  },
  "language_info": {
   "codemirror_mode": {
    "name": "ipython",
    "version": 3
   },
   "file_extension": ".py",
   "mimetype": "text/x-python",
   "name": "python",
   "nbconvert_exporter": "python",
   "pygments_lexer": "ipython3",
   "version": "3.11.5"
  }
 },
 "nbformat": 4,
 "nbformat_minor": 5
}

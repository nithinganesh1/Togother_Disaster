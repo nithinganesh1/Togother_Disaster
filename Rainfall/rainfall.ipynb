{
 "cells": [
  {
   "cell_type": "code",
   "execution_count": 1,
   "id": "df161aee-b2e2-4067-b3a1-2f2b10a5b89f",
   "metadata": {},
   "outputs": [],
   "source": [
    "import numpy as np\n",
    "import pandas as pd\n",
    "import matplotlib.pyplot as plt"
   ]
  },
  {
   "cell_type": "code",
   "execution_count": 2,
   "id": "ca69a88e-cc63-4c6a-9795-87fd30f78d69",
   "metadata": {},
   "outputs": [],
   "source": [
    "df=pd.read_csv(\"rainfall in india 1901-2015.csv\")"
   ]
  },
  {
   "cell_type": "code",
   "execution_count": 3,
   "id": "cc0ba0b1-3756-4582-adb8-c3d99432f293",
   "metadata": {
    "scrolled": true
   },
   "outputs": [
    {
     "data": {
      "text/plain": [
       "SUBDIVISION     object\n",
       "YEAR             int64\n",
       "JAN            float64\n",
       "FEB            float64\n",
       "MAR            float64\n",
       "APR            float64\n",
       "MAY            float64\n",
       "JUN            float64\n",
       "JUL            float64\n",
       "AUG            float64\n",
       "SEP            float64\n",
       "OCT            float64\n",
       "NOV            float64\n",
       "DEC            float64\n",
       "ANNUAL         float64\n",
       "Jan-Feb        float64\n",
       "Mar-May        float64\n",
       "Jun-Sep        float64\n",
       "Oct-Dec        float64\n",
       "dtype: object"
      ]
     },
     "execution_count": 3,
     "metadata": {},
     "output_type": "execute_result"
    }
   ],
   "source": [
    "df.dtypes"
   ]
  },
  {
   "cell_type": "code",
   "execution_count": 4,
   "id": "a29bb99c-5058-4b37-9d1b-9b5a9420fe17",
   "metadata": {},
   "outputs": [
    {
     "data": {
      "text/html": [
       "<div>\n",
       "<style scoped>\n",
       "    .dataframe tbody tr th:only-of-type {\n",
       "        vertical-align: middle;\n",
       "    }\n",
       "\n",
       "    .dataframe tbody tr th {\n",
       "        vertical-align: top;\n",
       "    }\n",
       "\n",
       "    .dataframe thead th {\n",
       "        text-align: right;\n",
       "    }\n",
       "</style>\n",
       "<table border=\"1\" class=\"dataframe\">\n",
       "  <thead>\n",
       "    <tr style=\"text-align: right;\">\n",
       "      <th></th>\n",
       "      <th>SUBDIVISION</th>\n",
       "      <th>YEAR</th>\n",
       "      <th>JAN</th>\n",
       "      <th>FEB</th>\n",
       "      <th>MAR</th>\n",
       "      <th>APR</th>\n",
       "      <th>MAY</th>\n",
       "      <th>JUN</th>\n",
       "      <th>JUL</th>\n",
       "      <th>AUG</th>\n",
       "      <th>SEP</th>\n",
       "      <th>OCT</th>\n",
       "      <th>NOV</th>\n",
       "      <th>DEC</th>\n",
       "      <th>ANNUAL</th>\n",
       "      <th>Jan-Feb</th>\n",
       "      <th>Mar-May</th>\n",
       "      <th>Jun-Sep</th>\n",
       "      <th>Oct-Dec</th>\n",
       "    </tr>\n",
       "  </thead>\n",
       "  <tbody>\n",
       "    <tr>\n",
       "      <th>0</th>\n",
       "      <td>ANDAMAN &amp; NICOBAR ISLANDS</td>\n",
       "      <td>1901</td>\n",
       "      <td>49.2</td>\n",
       "      <td>87.1</td>\n",
       "      <td>29.2</td>\n",
       "      <td>2.3</td>\n",
       "      <td>528.8</td>\n",
       "      <td>517.5</td>\n",
       "      <td>365.1</td>\n",
       "      <td>481.1</td>\n",
       "      <td>332.6</td>\n",
       "      <td>388.5</td>\n",
       "      <td>558.2</td>\n",
       "      <td>33.6</td>\n",
       "      <td>3373.2</td>\n",
       "      <td>136.3</td>\n",
       "      <td>560.3</td>\n",
       "      <td>1696.3</td>\n",
       "      <td>980.3</td>\n",
       "    </tr>\n",
       "    <tr>\n",
       "      <th>1</th>\n",
       "      <td>ANDAMAN &amp; NICOBAR ISLANDS</td>\n",
       "      <td>1902</td>\n",
       "      <td>0.0</td>\n",
       "      <td>159.8</td>\n",
       "      <td>12.2</td>\n",
       "      <td>0.0</td>\n",
       "      <td>446.1</td>\n",
       "      <td>537.1</td>\n",
       "      <td>228.9</td>\n",
       "      <td>753.7</td>\n",
       "      <td>666.2</td>\n",
       "      <td>197.2</td>\n",
       "      <td>359.0</td>\n",
       "      <td>160.5</td>\n",
       "      <td>3520.7</td>\n",
       "      <td>159.8</td>\n",
       "      <td>458.3</td>\n",
       "      <td>2185.9</td>\n",
       "      <td>716.7</td>\n",
       "    </tr>\n",
       "    <tr>\n",
       "      <th>2</th>\n",
       "      <td>ANDAMAN &amp; NICOBAR ISLANDS</td>\n",
       "      <td>1903</td>\n",
       "      <td>12.7</td>\n",
       "      <td>144.0</td>\n",
       "      <td>0.0</td>\n",
       "      <td>1.0</td>\n",
       "      <td>235.1</td>\n",
       "      <td>479.9</td>\n",
       "      <td>728.4</td>\n",
       "      <td>326.7</td>\n",
       "      <td>339.0</td>\n",
       "      <td>181.2</td>\n",
       "      <td>284.4</td>\n",
       "      <td>225.0</td>\n",
       "      <td>2957.4</td>\n",
       "      <td>156.7</td>\n",
       "      <td>236.1</td>\n",
       "      <td>1874.0</td>\n",
       "      <td>690.6</td>\n",
       "    </tr>\n",
       "    <tr>\n",
       "      <th>3</th>\n",
       "      <td>ANDAMAN &amp; NICOBAR ISLANDS</td>\n",
       "      <td>1904</td>\n",
       "      <td>9.4</td>\n",
       "      <td>14.7</td>\n",
       "      <td>0.0</td>\n",
       "      <td>202.4</td>\n",
       "      <td>304.5</td>\n",
       "      <td>495.1</td>\n",
       "      <td>502.0</td>\n",
       "      <td>160.1</td>\n",
       "      <td>820.4</td>\n",
       "      <td>222.2</td>\n",
       "      <td>308.7</td>\n",
       "      <td>40.1</td>\n",
       "      <td>3079.6</td>\n",
       "      <td>24.1</td>\n",
       "      <td>506.9</td>\n",
       "      <td>1977.6</td>\n",
       "      <td>571.0</td>\n",
       "    </tr>\n",
       "    <tr>\n",
       "      <th>4</th>\n",
       "      <td>ANDAMAN &amp; NICOBAR ISLANDS</td>\n",
       "      <td>1905</td>\n",
       "      <td>1.3</td>\n",
       "      <td>0.0</td>\n",
       "      <td>3.3</td>\n",
       "      <td>26.9</td>\n",
       "      <td>279.5</td>\n",
       "      <td>628.7</td>\n",
       "      <td>368.7</td>\n",
       "      <td>330.5</td>\n",
       "      <td>297.0</td>\n",
       "      <td>260.7</td>\n",
       "      <td>25.4</td>\n",
       "      <td>344.7</td>\n",
       "      <td>2566.7</td>\n",
       "      <td>1.3</td>\n",
       "      <td>309.7</td>\n",
       "      <td>1624.9</td>\n",
       "      <td>630.8</td>\n",
       "    </tr>\n",
       "  </tbody>\n",
       "</table>\n",
       "</div>"
      ],
      "text/plain": [
       "                 SUBDIVISION  YEAR   JAN    FEB   MAR    APR    MAY    JUN  \\\n",
       "0  ANDAMAN & NICOBAR ISLANDS  1901  49.2   87.1  29.2    2.3  528.8  517.5   \n",
       "1  ANDAMAN & NICOBAR ISLANDS  1902   0.0  159.8  12.2    0.0  446.1  537.1   \n",
       "2  ANDAMAN & NICOBAR ISLANDS  1903  12.7  144.0   0.0    1.0  235.1  479.9   \n",
       "3  ANDAMAN & NICOBAR ISLANDS  1904   9.4   14.7   0.0  202.4  304.5  495.1   \n",
       "4  ANDAMAN & NICOBAR ISLANDS  1905   1.3    0.0   3.3   26.9  279.5  628.7   \n",
       "\n",
       "     JUL    AUG    SEP    OCT    NOV    DEC  ANNUAL  Jan-Feb  Mar-May  \\\n",
       "0  365.1  481.1  332.6  388.5  558.2   33.6  3373.2    136.3    560.3   \n",
       "1  228.9  753.7  666.2  197.2  359.0  160.5  3520.7    159.8    458.3   \n",
       "2  728.4  326.7  339.0  181.2  284.4  225.0  2957.4    156.7    236.1   \n",
       "3  502.0  160.1  820.4  222.2  308.7   40.1  3079.6     24.1    506.9   \n",
       "4  368.7  330.5  297.0  260.7   25.4  344.7  2566.7      1.3    309.7   \n",
       "\n",
       "   Jun-Sep  Oct-Dec  \n",
       "0   1696.3    980.3  \n",
       "1   2185.9    716.7  \n",
       "2   1874.0    690.6  \n",
       "3   1977.6    571.0  \n",
       "4   1624.9    630.8  "
      ]
     },
     "execution_count": 4,
     "metadata": {},
     "output_type": "execute_result"
    }
   ],
   "source": [
    "df.head()"
   ]
  },
  {
   "cell_type": "code",
   "execution_count": 5,
   "id": "bc2a2868-e1ac-408f-85fe-dc7968962bda",
   "metadata": {},
   "outputs": [],
   "source": [
    "data1 = df.groupby(['SUBDIVISION'])[['YEAR', 'JAN', 'FEB', 'MAR', 'APR', 'MAY', 'JUN', 'JUL', 'AUG', 'SEP', 'NOV', 'DEC']]"
   ]
  },
  {
   "cell_type": "code",
   "execution_count": 6,
   "id": "4fb6835e-2105-4d89-9c87-8b19e80eb8ae",
   "metadata": {},
   "outputs": [
    {
     "data": {
      "text/plain": [
       "array(['ANDAMAN & NICOBAR ISLANDS', 'ARUNACHAL PRADESH',\n",
       "       'ASSAM & MEGHALAYA', 'NAGA MANI MIZO TRIPURA',\n",
       "       'SUB HIMALAYAN WEST BENGAL & SIKKIM', 'GANGETIC WEST BENGAL',\n",
       "       'ORISSA', 'JHARKHAND', 'BIHAR', 'EAST UTTAR PRADESH',\n",
       "       'WEST UTTAR PRADESH', 'UTTARAKHAND', 'HARYANA DELHI & CHANDIGARH',\n",
       "       'PUNJAB', 'HIMACHAL PRADESH', 'JAMMU & KASHMIR', 'WEST RAJASTHAN',\n",
       "       'EAST RAJASTHAN', 'WEST MADHYA PRADESH', 'EAST MADHYA PRADESH',\n",
       "       'GUJARAT REGION', 'SAURASHTRA & KUTCH', 'KONKAN & GOA',\n",
       "       'MADHYA MAHARASHTRA', 'MATATHWADA', 'VIDARBHA', 'CHHATTISGARH',\n",
       "       'COASTAL ANDHRA PRADESH', 'TELANGANA', 'RAYALSEEMA', 'TAMIL NADU',\n",
       "       'COASTAL KARNATAKA', 'NORTH INTERIOR KARNATAKA',\n",
       "       'SOUTH INTERIOR KARNATAKA', 'KERALA', 'LAKSHADWEEP'], dtype=object)"
      ]
     },
     "execution_count": 6,
     "metadata": {},
     "output_type": "execute_result"
    }
   ],
   "source": [
    "df.SUBDIVISION.unique()"
   ]
  },
  {
   "cell_type": "code",
   "execution_count": 7,
   "id": "a844d571-87a2-40de-974d-390fabca43b3",
   "metadata": {},
   "outputs": [
    {
     "data": {
      "text/html": [
       "<div>\n",
       "<style scoped>\n",
       "    .dataframe tbody tr th:only-of-type {\n",
       "        vertical-align: middle;\n",
       "    }\n",
       "\n",
       "    .dataframe tbody tr th {\n",
       "        vertical-align: top;\n",
       "    }\n",
       "\n",
       "    .dataframe thead th {\n",
       "        text-align: right;\n",
       "    }\n",
       "</style>\n",
       "<table border=\"1\" class=\"dataframe\">\n",
       "  <thead>\n",
       "    <tr style=\"text-align: right;\">\n",
       "      <th></th>\n",
       "      <th>YEAR</th>\n",
       "      <th>JAN</th>\n",
       "      <th>FEB</th>\n",
       "      <th>MAR</th>\n",
       "      <th>APR</th>\n",
       "      <th>MAY</th>\n",
       "      <th>JUN</th>\n",
       "      <th>JUL</th>\n",
       "      <th>AUG</th>\n",
       "      <th>SEP</th>\n",
       "      <th>NOV</th>\n",
       "      <th>DEC</th>\n",
       "    </tr>\n",
       "  </thead>\n",
       "  <tbody>\n",
       "    <tr>\n",
       "      <th>3427</th>\n",
       "      <td>1901</td>\n",
       "      <td>24.5</td>\n",
       "      <td>39.1</td>\n",
       "      <td>21.7</td>\n",
       "      <td>36.0</td>\n",
       "      <td>74.0</td>\n",
       "      <td>41.8</td>\n",
       "      <td>49.3</td>\n",
       "      <td>67.9</td>\n",
       "      <td>191.1</td>\n",
       "      <td>212.3</td>\n",
       "      <td>80.4</td>\n",
       "    </tr>\n",
       "    <tr>\n",
       "      <th>3428</th>\n",
       "      <td>1902</td>\n",
       "      <td>67.2</td>\n",
       "      <td>9.8</td>\n",
       "      <td>25.1</td>\n",
       "      <td>21.9</td>\n",
       "      <td>84.7</td>\n",
       "      <td>39.3</td>\n",
       "      <td>55.1</td>\n",
       "      <td>113.8</td>\n",
       "      <td>98.6</td>\n",
       "      <td>174.9</td>\n",
       "      <td>165.8</td>\n",
       "    </tr>\n",
       "    <tr>\n",
       "      <th>3429</th>\n",
       "      <td>1903</td>\n",
       "      <td>19.3</td>\n",
       "      <td>7.8</td>\n",
       "      <td>1.7</td>\n",
       "      <td>18.2</td>\n",
       "      <td>128.5</td>\n",
       "      <td>58.5</td>\n",
       "      <td>72.6</td>\n",
       "      <td>115.0</td>\n",
       "      <td>210.4</td>\n",
       "      <td>200.5</td>\n",
       "      <td>203.2</td>\n",
       "    </tr>\n",
       "    <tr>\n",
       "      <th>3430</th>\n",
       "      <td>1904</td>\n",
       "      <td>35.2</td>\n",
       "      <td>0.1</td>\n",
       "      <td>0.7</td>\n",
       "      <td>19.5</td>\n",
       "      <td>121.9</td>\n",
       "      <td>34.9</td>\n",
       "      <td>89.0</td>\n",
       "      <td>40.4</td>\n",
       "      <td>85.7</td>\n",
       "      <td>23.6</td>\n",
       "      <td>49.1</td>\n",
       "    </tr>\n",
       "    <tr>\n",
       "      <th>3431</th>\n",
       "      <td>1905</td>\n",
       "      <td>6.5</td>\n",
       "      <td>7.5</td>\n",
       "      <td>17.2</td>\n",
       "      <td>64.8</td>\n",
       "      <td>83.7</td>\n",
       "      <td>49.8</td>\n",
       "      <td>39.0</td>\n",
       "      <td>101.8</td>\n",
       "      <td>73.5</td>\n",
       "      <td>123.7</td>\n",
       "      <td>3.2</td>\n",
       "    </tr>\n",
       "  </tbody>\n",
       "</table>\n",
       "</div>"
      ],
      "text/plain": [
       "      YEAR   JAN   FEB   MAR   APR    MAY   JUN   JUL    AUG    SEP    NOV  \\\n",
       "3427  1901  24.5  39.1  21.7  36.0   74.0  41.8  49.3   67.9  191.1  212.3   \n",
       "3428  1902  67.2   9.8  25.1  21.9   84.7  39.3  55.1  113.8   98.6  174.9   \n",
       "3429  1903  19.3   7.8   1.7  18.2  128.5  58.5  72.6  115.0  210.4  200.5   \n",
       "3430  1904  35.2   0.1   0.7  19.5  121.9  34.9  89.0   40.4   85.7   23.6   \n",
       "3431  1905   6.5   7.5  17.2  64.8   83.7  49.8  39.0  101.8   73.5  123.7   \n",
       "\n",
       "        DEC  \n",
       "3427   80.4  \n",
       "3428  165.8  \n",
       "3429  203.2  \n",
       "3430   49.1  \n",
       "3431    3.2  "
      ]
     },
     "execution_count": 7,
     "metadata": {},
     "output_type": "execute_result"
    }
   ],
   "source": [
    "data=data1.get_group(('TAMIL NADU'))\n",
    "data.head()"
   ]
  },
  {
   "cell_type": "code",
   "execution_count": 8,
   "id": "cf80a2de-6cca-4ebc-b64c-5ac68e993301",
   "metadata": {},
   "outputs": [
    {
     "data": {
      "text/html": [
       "<div>\n",
       "<style scoped>\n",
       "    .dataframe tbody tr th:only-of-type {\n",
       "        vertical-align: middle;\n",
       "    }\n",
       "\n",
       "    .dataframe tbody tr th {\n",
       "        vertical-align: top;\n",
       "    }\n",
       "\n",
       "    .dataframe thead th {\n",
       "        text-align: right;\n",
       "    }\n",
       "</style>\n",
       "<table border=\"1\" class=\"dataframe\">\n",
       "  <thead>\n",
       "    <tr style=\"text-align: right;\">\n",
       "      <th></th>\n",
       "      <th>JAN</th>\n",
       "      <th>FEB</th>\n",
       "      <th>MAR</th>\n",
       "      <th>APR</th>\n",
       "      <th>MAY</th>\n",
       "      <th>JUN</th>\n",
       "      <th>JUL</th>\n",
       "      <th>AUG</th>\n",
       "      <th>SEP</th>\n",
       "      <th>NOV</th>\n",
       "      <th>DEC</th>\n",
       "    </tr>\n",
       "    <tr>\n",
       "      <th>YEAR</th>\n",
       "      <th></th>\n",
       "      <th></th>\n",
       "      <th></th>\n",
       "      <th></th>\n",
       "      <th></th>\n",
       "      <th></th>\n",
       "      <th></th>\n",
       "      <th></th>\n",
       "      <th></th>\n",
       "      <th></th>\n",
       "      <th></th>\n",
       "    </tr>\n",
       "  </thead>\n",
       "  <tbody>\n",
       "    <tr>\n",
       "      <th>1901</th>\n",
       "      <td>24.5</td>\n",
       "      <td>39.1</td>\n",
       "      <td>21.7</td>\n",
       "      <td>36.0</td>\n",
       "      <td>74.0</td>\n",
       "      <td>41.8</td>\n",
       "      <td>49.3</td>\n",
       "      <td>67.9</td>\n",
       "      <td>191.1</td>\n",
       "      <td>212.3</td>\n",
       "      <td>80.4</td>\n",
       "    </tr>\n",
       "    <tr>\n",
       "      <th>1902</th>\n",
       "      <td>67.2</td>\n",
       "      <td>9.8</td>\n",
       "      <td>25.1</td>\n",
       "      <td>21.9</td>\n",
       "      <td>84.7</td>\n",
       "      <td>39.3</td>\n",
       "      <td>55.1</td>\n",
       "      <td>113.8</td>\n",
       "      <td>98.6</td>\n",
       "      <td>174.9</td>\n",
       "      <td>165.8</td>\n",
       "    </tr>\n",
       "    <tr>\n",
       "      <th>1903</th>\n",
       "      <td>19.3</td>\n",
       "      <td>7.8</td>\n",
       "      <td>1.7</td>\n",
       "      <td>18.2</td>\n",
       "      <td>128.5</td>\n",
       "      <td>58.5</td>\n",
       "      <td>72.6</td>\n",
       "      <td>115.0</td>\n",
       "      <td>210.4</td>\n",
       "      <td>200.5</td>\n",
       "      <td>203.2</td>\n",
       "    </tr>\n",
       "    <tr>\n",
       "      <th>1904</th>\n",
       "      <td>35.2</td>\n",
       "      <td>0.1</td>\n",
       "      <td>0.7</td>\n",
       "      <td>19.5</td>\n",
       "      <td>121.9</td>\n",
       "      <td>34.9</td>\n",
       "      <td>89.0</td>\n",
       "      <td>40.4</td>\n",
       "      <td>85.7</td>\n",
       "      <td>23.6</td>\n",
       "      <td>49.1</td>\n",
       "    </tr>\n",
       "    <tr>\n",
       "      <th>1905</th>\n",
       "      <td>6.5</td>\n",
       "      <td>7.5</td>\n",
       "      <td>17.2</td>\n",
       "      <td>64.8</td>\n",
       "      <td>83.7</td>\n",
       "      <td>49.8</td>\n",
       "      <td>39.0</td>\n",
       "      <td>101.8</td>\n",
       "      <td>73.5</td>\n",
       "      <td>123.7</td>\n",
       "      <td>3.2</td>\n",
       "    </tr>\n",
       "  </tbody>\n",
       "</table>\n",
       "</div>"
      ],
      "text/plain": [
       "       JAN   FEB   MAR   APR    MAY   JUN   JUL    AUG    SEP    NOV    DEC\n",
       "YEAR                                                                       \n",
       "1901  24.5  39.1  21.7  36.0   74.0  41.8  49.3   67.9  191.1  212.3   80.4\n",
       "1902  67.2   9.8  25.1  21.9   84.7  39.3  55.1  113.8   98.6  174.9  165.8\n",
       "1903  19.3   7.8   1.7  18.2  128.5  58.5  72.6  115.0  210.4  200.5  203.2\n",
       "1904  35.2   0.1   0.7  19.5  121.9  34.9  89.0   40.4   85.7   23.6   49.1\n",
       "1905   6.5   7.5  17.2  64.8   83.7  49.8  39.0  101.8   73.5  123.7    3.2"
      ]
     },
     "execution_count": 8,
     "metadata": {},
     "output_type": "execute_result"
    }
   ],
   "source": [
    "data.set_index('YEAR', inplace = True)\n",
    "data.head()"
   ]
  },
  {
   "cell_type": "code",
   "execution_count": 9,
   "id": "fcfb8788-5489-4822-b670-108db12d4afb",
   "metadata": {},
   "outputs": [
    {
     "data": {
      "text/plain": [
       "(115, 11)"
      ]
     },
     "execution_count": 9,
     "metadata": {},
     "output_type": "execute_result"
    }
   ],
   "source": [
    "data.shape"
   ]
  },
  {
   "cell_type": "code",
   "execution_count": 10,
   "id": "6cd61399-4d26-4517-8d9f-4180a44af72f",
   "metadata": {},
   "outputs": [
    {
     "data": {
      "text/html": [
       "<div>\n",
       "<style scoped>\n",
       "    .dataframe tbody tr th:only-of-type {\n",
       "        vertical-align: middle;\n",
       "    }\n",
       "\n",
       "    .dataframe tbody tr th {\n",
       "        vertical-align: top;\n",
       "    }\n",
       "\n",
       "    .dataframe thead th {\n",
       "        text-align: right;\n",
       "    }\n",
       "</style>\n",
       "<table border=\"1\" class=\"dataframe\">\n",
       "  <thead>\n",
       "    <tr style=\"text-align: right;\">\n",
       "      <th></th>\n",
       "      <th>Mean</th>\n",
       "    </tr>\n",
       "  </thead>\n",
       "  <tbody>\n",
       "    <tr>\n",
       "      <th>1901-01-01</th>\n",
       "      <td>24.5</td>\n",
       "    </tr>\n",
       "    <tr>\n",
       "      <th>1901-02-01</th>\n",
       "      <td>39.1</td>\n",
       "    </tr>\n",
       "    <tr>\n",
       "      <th>1901-03-01</th>\n",
       "      <td>21.7</td>\n",
       "    </tr>\n",
       "    <tr>\n",
       "      <th>1901-04-01</th>\n",
       "      <td>36.0</td>\n",
       "    </tr>\n",
       "    <tr>\n",
       "      <th>1901-05-01</th>\n",
       "      <td>74.0</td>\n",
       "    </tr>\n",
       "  </tbody>\n",
       "</table>\n",
       "</div>"
      ],
      "text/plain": [
       "            Mean\n",
       "1901-01-01  24.5\n",
       "1901-02-01  39.1\n",
       "1901-03-01  21.7\n",
       "1901-04-01  36.0\n",
       "1901-05-01  74.0"
      ]
     },
     "execution_count": 10,
     "metadata": {},
     "output_type": "execute_result"
    }
   ],
   "source": [
    "data_np = data.to_numpy()\n",
    "dates = pd.date_range(start='1901-01', freq='MS', periods=data_np.size)\n",
    "\n",
    "data_np = data_np.reshape(-1, 1)\n",
    "df = pd.DataFrame({'Mean': data_np.flatten()})\n",
    "df.set_index(dates, inplace=True)\n",
    "df.head()"
   ]
  },
  {
   "cell_type": "code",
   "execution_count": 17,
   "id": "2afbd656-9cc7-4de9-af75-f1ee542478e4",
   "metadata": {},
   "outputs": [
    {
     "data": {
      "text/plain": [
       "Text(0, 0.5, 'Rainfall Mean across Month')"
      ]
     },
     "execution_count": 17,
     "metadata": {},
     "output_type": "execute_result"
    },
    {
     "data": {
      "image/png": "[encoded data removed]",
      "text/plain": [
       "<Figure size 1500x500 with 1 Axes>"
      ]
     },
     "metadata": {},
     "output_type": "display_data"
    }
   ],
   "source": [
    "plt.figure(figsize = (15,5))\n",
    "plt.plot(df.index, df['Mean'])\n",
    "plt.title('Yearly vs Monthly Mean')\n",
    "plt.xlabel('Year')\n",
    "plt.ylabel('Rainfall Mean across Month')"
   ]
  },
  {
   "cell_type": "code",
   "execution_count": 11,
   "id": "5d6927f5-932a-4e8f-ae12-5df48681e6ce",
   "metadata": {},
   "outputs": [
    {
     "data": {
      "text/plain": [
       "(1265, 1)"
      ]
     },
     "execution_count": 11,
     "metadata": {},
     "output_type": "execute_result"
    }
   ],
   "source": [
    "dataset = df.values\n",
    "dataset.shape"
   ]
  },
  {
   "cell_type": "code",
   "execution_count": 12,
   "id": "bd460011-400e-48f2-b706-cf93762feeef",
   "metadata": {},
   "outputs": [],
   "source": [
    "train = dataset[0:1000,:]\n",
    "test = dataset[1000:,:]"
   ]
  },
  {
   "cell_type": "code",
   "execution_count": 13,
   "id": "b65011f0-4bd5-4ffa-a692-453c058c3da2",
   "metadata": {},
   "outputs": [
    {
     "data": {
      "text/plain": [
       "((1000, 1), (265, 1))"
      ]
     },
     "execution_count": 13,
     "metadata": {},
     "output_type": "execute_result"
    }
   ],
   "source": [
    "train.shape,test.shape"
   ]
  },
  {
   "cell_type": "code",
   "execution_count": 14,
   "id": "9dca8833-8762-47b3-a998-386a68acb888",
   "metadata": {},
   "outputs": [
    {
     "name": "stdout",
     "output_type": "stream",
     "text": [
      "WARNING:tensorflow:From C:\\Users\\HP\\anaconda3\\Lib\\site-packages\\keras\\src\\losses.py:2976: The name tf.losses.sparse_softmax_cross_entropy is deprecated. Please use tf.compat.v1.losses.sparse_softmax_cross_entropy instead.\n",
      "\n"
     ]
    }
   ],
   "source": [
    "from sklearn.preprocessing import MinMaxScaler\n",
    "from keras.models import Sequential\n",
    "from keras.layers import Dense, Activation, LSTM"
   ]
  },
  {
   "cell_type": "code",
   "execution_count": 15,
   "id": "ff67bb71-d5f1-43c4-a45e-8e92436ab21f",
   "metadata": {},
   "outputs": [
    {
     "data": {
      "text/plain": [
       "(1265, 1)"
      ]
     },
     "execution_count": 15,
     "metadata": {},
     "output_type": "execute_result"
    }
   ],
   "source": [
    "scaler = MinMaxScaler(feature_range = (0,1))\n",
    "scaled_data = scaler.fit_transform(dataset)\n",
    "scaled_data.shape"
   ]
  },
  {
   "cell_type": "code",
   "execution_count": 16,
   "id": "34b1fb73-e5f1-4b9b-844f-1737e4e3ad9b",
   "metadata": {},
   "outputs": [],
   "source": [
    "x_train, y_train = [], []\n",
    "for i in range(60,len(train)):\n",
    "    x_train.append(scaled_data[i-60:i,0])\n",
    "    y_train.append(scaled_data[i,0])\n",
    "x_train, y_train = np.array(x_train), np.array(y_train)"
   ]
  },
  {
   "cell_type": "code",
   "execution_count": 17,
   "id": "5e966e75-e27a-4dbe-b8e2-d6ddb97dddac",
   "metadata": {},
   "outputs": [
    {
     "data": {
      "text/plain": [
       "(940, 60, 1)"
      ]
     },
     "execution_count": 17,
     "metadata": {},
     "output_type": "execute_result"
    }
   ],
   "source": [
    "x_train = np.reshape(x_train, (x_train.shape[0],x_train.shape[1],1))\n",
    "x_train.shape"
   ]
  },
  {
   "cell_type": "code",
   "execution_count": 18,
   "id": "3835c829-7b3c-420a-8abf-8e2d0fb1db0a",
   "metadata": {},
   "outputs": [
    {
     "name": "stdout",
     "output_type": "stream",
     "text": [
      "WARNING:tensorflow:From C:\\Users\\HP\\anaconda3\\Lib\\site-packages\\keras\\src\\backend.py:873: The name tf.get_default_graph is deprecated. Please use tf.compat.v1.get_default_graph instead.\n",
      "\n"
     ]
    }
   ],
   "source": [
    "model = Sequential()\n",
    "model.add(LSTM(units = 50, return_sequences = True, input_shape = (x_train.shape[1],1)))\n",
    "model.add(LSTM(units = 50))\n",
    "model.add(Dense(1))"
   ]
  },
  {
   "cell_type": "code",
   "execution_count": 19,
   "id": "b0b71c96-8cb2-42d1-be50-672f2da61e15",
   "metadata": {},
   "outputs": [
    {
     "name": "stdout",
     "output_type": "stream",
     "text": [
      "WARNING:tensorflow:From C:\\Users\\HP\\anaconda3\\Lib\\site-packages\\keras\\src\\optimizers\\__init__.py:309: The name tf.train.Optimizer is deprecated. Please use tf.compat.v1.train.Optimizer instead.\n",
      "\n",
      "Epoch 1/10\n",
      "WARNING:tensorflow:From C:\\Users\\HP\\anaconda3\\Lib\\site-packages\\keras\\src\\utils\\tf_utils.py:492: The name tf.ragged.RaggedTensorValue is deprecated. Please use tf.compat.v1.ragged.RaggedTensorValue instead.\n",
      "\n",
      "470/470 - 12s - loss: 0.0207 - 12s/epoch - 25ms/step\n",
      "Epoch 2/10\n",
      "470/470 - 9s - loss: 0.0162 - 9s/epoch - 18ms/step\n",
      "Epoch 3/10\n",
      "470/470 - 9s - loss: 0.0159 - 9s/epoch - 18ms/step\n",
      "Epoch 4/10\n",
      "470/470 - 9s - loss: 0.0152 - 9s/epoch - 18ms/step\n",
      "Epoch 5/10\n",
      "470/470 - 9s - loss: 0.0146 - 9s/epoch - 18ms/step\n",
      "Epoch 6/10\n",
      "470/470 - 9s - loss: 0.0138 - 9s/epoch - 18ms/step\n",
      "Epoch 7/10\n",
      "470/470 - 8s - loss: 0.0142 - 8s/epoch - 18ms/step\n",
      "Epoch 8/10\n",
      "470/470 - 8s - loss: 0.0142 - 8s/epoch - 18ms/step\n",
      "Epoch 9/10\n",
      "470/470 - 8s - loss: 0.0135 - 8s/epoch - 18ms/step\n",
      "Epoch 10/10\n",
      "470/470 - 9s - loss: 0.0139 - 9s/epoch - 19ms/step\n"
     ]
    },
    {
     "data": {
      "text/plain": [
       "<keras.src.callbacks.History at 0x1cf0e1d7250>"
      ]
     },
     "execution_count": 19,
     "metadata": {},
     "output_type": "execute_result"
    }
   ],
   "source": [
    "model.compile(loss = 'mean_squared_error', optimizer = 'adam')\n",
    "model.fit(x_train, y_train, epochs=10, batch_size = 2, verbose = 2)"
   ]
  },
  {
   "cell_type": "code",
   "execution_count": 20,
   "id": "a0677f86-6e3c-4a91-8534-ea5b02c8c4e0",
   "metadata": {},
   "outputs": [],
   "source": [
    "inputs = df[len(df) - len(test) - 60:].values\n",
    "inputs = inputs.reshape(-1,1)\n",
    "inputs = scaler.transform(inputs)"
   ]
  },
  {
   "cell_type": "code",
   "execution_count": 21,
   "id": "df92089d-54f9-491c-a9d6-18bb4583abe5",
   "metadata": {},
   "outputs": [],
   "source": [
    "X_test = []\n",
    "for i in range(60,inputs.shape[0]):\n",
    "    X_test.append(inputs[i-60:i,0])\n",
    "X_test = np.array(X_test)"
   ]
  },
  {
   "cell_type": "code",
   "execution_count": 22,
   "id": "1a0e8815-7e5d-4cb3-a393-99125e42b481",
   "metadata": {},
   "outputs": [
    {
     "name": "stdout",
     "output_type": "stream",
     "text": [
      "9/9 [==============================] - 1s 11ms/step\n"
     ]
    }
   ],
   "source": [
    "X_test = np.reshape(X_test, (X_test.shape[0],X_test.shape[1],1))\n",
    "Mean = model.predict(X_test)\n",
    "Mean1 = scaler.inverse_transform(Mean)"
   ]
  },
  {
   "cell_type": "code",
   "execution_count": 23,
   "id": "0533e926-a60e-47d2-9884-52224da40363",
   "metadata": {},
   "outputs": [
    {
     "data": {
      "text/plain": [
       "56.26286169935415"
      ]
     },
     "execution_count": 23,
     "metadata": {},
     "output_type": "execute_result"
    }
   ],
   "source": [
    "rms=np.sqrt(np.mean(np.power((test-Mean1),2)))\n",
    "rms"
   ]
  },
  {
   "cell_type": "code",
   "execution_count": 24,
   "id": "068e9e86-8030-493e-b0ec-af6ae9742a6f",
   "metadata": {},
   "outputs": [
    {
     "data": {
      "text/html": [
       "<div>\n",
       "<style scoped>\n",
       "    .dataframe tbody tr th:only-of-type {\n",
       "        vertical-align: middle;\n",
       "    }\n",
       "\n",
       "    .dataframe tbody tr th {\n",
       "        vertical-align: top;\n",
       "    }\n",
       "\n",
       "    .dataframe thead th {\n",
       "        text-align: right;\n",
       "    }\n",
       "</style>\n",
       "<table border=\"1\" class=\"dataframe\">\n",
       "  <thead>\n",
       "    <tr style=\"text-align: right;\">\n",
       "      <th></th>\n",
       "      <th>Mean</th>\n",
       "    </tr>\n",
       "  </thead>\n",
       "  <tbody>\n",
       "    <tr>\n",
       "      <th>2005-06-01</th>\n",
       "      <td>66.0</td>\n",
       "    </tr>\n",
       "    <tr>\n",
       "      <th>2005-07-01</th>\n",
       "      <td>8.3</td>\n",
       "    </tr>\n",
       "    <tr>\n",
       "      <th>2005-08-01</th>\n",
       "      <td>2.3</td>\n",
       "    </tr>\n",
       "    <tr>\n",
       "      <th>2005-09-01</th>\n",
       "      <td>21.7</td>\n",
       "    </tr>\n",
       "    <tr>\n",
       "      <th>2005-10-01</th>\n",
       "      <td>108.8</td>\n",
       "    </tr>\n",
       "    <tr>\n",
       "      <th>2005-11-01</th>\n",
       "      <td>112.4</td>\n",
       "    </tr>\n",
       "    <tr>\n",
       "      <th>2005-12-01</th>\n",
       "      <td>62.4</td>\n",
       "    </tr>\n",
       "    <tr>\n",
       "      <th>2006-01-01</th>\n",
       "      <td>43.5</td>\n",
       "    </tr>\n",
       "    <tr>\n",
       "      <th>2006-02-01</th>\n",
       "      <td>81.6</td>\n",
       "    </tr>\n",
       "    <tr>\n",
       "      <th>2006-03-01</th>\n",
       "      <td>98.4</td>\n",
       "    </tr>\n",
       "    <tr>\n",
       "      <th>2006-04-01</th>\n",
       "      <td>379.8</td>\n",
       "    </tr>\n",
       "    <tr>\n",
       "      <th>2006-05-01</th>\n",
       "      <td>152.8</td>\n",
       "    </tr>\n",
       "  </tbody>\n",
       "</table>\n",
       "</div>"
      ],
      "text/plain": [
       "             Mean\n",
       "2005-06-01   66.0\n",
       "2005-07-01    8.3\n",
       "2005-08-01    2.3\n",
       "2005-09-01   21.7\n",
       "2005-10-01  108.8\n",
       "2005-11-01  112.4\n",
       "2005-12-01   62.4\n",
       "2006-01-01   43.5\n",
       "2006-02-01   81.6\n",
       "2006-03-01   98.4\n",
       "2006-04-01  379.8\n",
       "2006-05-01  152.8"
      ]
     },
     "execution_count": 24,
     "metadata": {},
     "output_type": "execute_result"
    }
   ],
   "source": [
    "df.tail(12)"
   ]
  },
  {
   "cell_type": "code",
   "execution_count": 25,
   "id": "ad6e5d3e-d92d-4001-918a-f270fb524fa7",
   "metadata": {},
   "outputs": [
    {
     "name": "stdout",
     "output_type": "stream",
     "text": [
      "2/2 [==============================] - 0s 24ms/step\n"
     ]
    }
   ],
   "source": [
    "trainpred = model.predict(X_test,steps=2)"
   ]
  },
  {
   "cell_type": "code",
   "execution_count": 26,
   "id": "3b5155a4-fbd0-47be-a9f3-10654ae75ea6",
   "metadata": {},
   "outputs": [],
   "source": [
    "pred = scaler.inverse_transform(trainpred)"
   ]
  },
  {
   "cell_type": "code",
   "execution_count": 27,
   "id": "6b80d451-d4aa-4b56-87e6-42a4d351b69f",
   "metadata": {},
   "outputs": [],
   "source": [
    "date_ind = pd.date_range(start = '2006-05-01', freq = 'MS', end = '2028-5-1')"
   ]
  },
  {
   "cell_type": "code",
   "execution_count": 28,
   "id": "b5b90e5a-c073-4e6e-8bb9-fe5bd70d8f3d",
   "metadata": {},
   "outputs": [],
   "source": [
    "new_df = pd.DataFrame({'Predicted_values':pred[:,0]})"
   ]
  },
  {
   "cell_type": "code",
   "execution_count": 29,
   "id": "5cd6c098-0902-4ff6-880a-933f330d50c1",
   "metadata": {},
   "outputs": [],
   "source": [
    "new_df.set_index(date_ind, inplace = True)"
   ]
  },
  {
   "cell_type": "code",
   "execution_count": 30,
   "id": "1bd58b1b-7a0b-4dc6-86ed-dcb9b58fb4af",
   "metadata": {},
   "outputs": [
    {
     "data": {
      "text/html": [
       "<div>\n",
       "<style scoped>\n",
       "    .dataframe tbody tr th:only-of-type {\n",
       "        vertical-align: middle;\n",
       "    }\n",
       "\n",
       "    .dataframe tbody tr th {\n",
       "        vertical-align: top;\n",
       "    }\n",
       "\n",
       "    .dataframe thead th {\n",
       "        text-align: right;\n",
       "    }\n",
       "</style>\n",
       "<table border=\"1\" class=\"dataframe\">\n",
       "  <thead>\n",
       "    <tr style=\"text-align: right;\">\n",
       "      <th></th>\n",
       "      <th>Predicted_values</th>\n",
       "    </tr>\n",
       "  </thead>\n",
       "  <tbody>\n",
       "    <tr>\n",
       "      <th>2006-05-01</th>\n",
       "      <td>86.481636</td>\n",
       "    </tr>\n",
       "    <tr>\n",
       "      <th>2006-06-01</th>\n",
       "      <td>34.679745</td>\n",
       "    </tr>\n",
       "    <tr>\n",
       "      <th>2006-07-01</th>\n",
       "      <td>22.760286</td>\n",
       "    </tr>\n",
       "    <tr>\n",
       "      <th>2006-08-01</th>\n",
       "      <td>31.291216</td>\n",
       "    </tr>\n",
       "    <tr>\n",
       "      <th>2006-09-01</th>\n",
       "      <td>40.891487</td>\n",
       "    </tr>\n",
       "    <tr>\n",
       "      <th>...</th>\n",
       "      <td>...</td>\n",
       "    </tr>\n",
       "    <tr>\n",
       "      <th>2028-01-01</th>\n",
       "      <td>91.464867</td>\n",
       "    </tr>\n",
       "    <tr>\n",
       "      <th>2028-02-01</th>\n",
       "      <td>104.803200</td>\n",
       "    </tr>\n",
       "    <tr>\n",
       "      <th>2028-03-01</th>\n",
       "      <td>106.330864</td>\n",
       "    </tr>\n",
       "    <tr>\n",
       "      <th>2028-04-01</th>\n",
       "      <td>90.836571</td>\n",
       "    </tr>\n",
       "    <tr>\n",
       "      <th>2028-05-01</th>\n",
       "      <td>78.164619</td>\n",
       "    </tr>\n",
       "  </tbody>\n",
       "</table>\n",
       "<p>265 rows × 1 columns</p>\n",
       "</div>"
      ],
      "text/plain": [
       "            Predicted_values\n",
       "2006-05-01         86.481636\n",
       "2006-06-01         34.679745\n",
       "2006-07-01         22.760286\n",
       "2006-08-01         31.291216\n",
       "2006-09-01         40.891487\n",
       "...                      ...\n",
       "2028-01-01         91.464867\n",
       "2028-02-01        104.803200\n",
       "2028-03-01        106.330864\n",
       "2028-04-01         90.836571\n",
       "2028-05-01         78.164619\n",
       "\n",
       "[265 rows x 1 columns]"
      ]
     },
     "execution_count": 30,
     "metadata": {},
     "output_type": "execute_result"
    }
   ],
   "source": [
    "new_df"
   ]
  },
  {
   "cell_type": "code",
   "execution_count": 34,
   "id": "051a8123-b8ab-47d4-859d-85d775bcf1b6",
   "metadata": {},
   "outputs": [],
   "source": [
    "import numpy as np\n",
    "import pandas as pd\n",
    "from sklearn.preprocessing import MinMaxScaler\n",
    "\n",
    "def predict_rainfall_with_year_month(model, scaler, year, month):\n",
    "    \n",
    "    max_year = 2050  \n",
    "    min_year = 2006 \n",
    "    \n",
    "    year_norm = (year - min_year) / (max_year - min_year)  \n",
    "    month_norm = month / 12  \n",
    "    \n",
    "    input_sequence = np.array([year_norm, month_norm]).reshape(1, 2, 1)\n",
    "    predicted_scaled = model.predict(input_sequence)\n",
    "    predicted_value = scaler.inverse_transform(predicted_scaled)[0][0]\n",
    "    print(f\"Predicted rainfall for {year}-{month:02}: {predicted_value}\")\n",
    "    return predicted_value"
   ]
  },
  {
   "cell_type": "code",
   "execution_count": 45,
   "id": "19767b43-ceef-4ba0-a25c-2efb870b51a2",
   "metadata": {},
   "outputs": [
    {
     "name": "stdout",
     "output_type": "stream",
     "text": [
      "1/1 [==============================] - 0s 313ms/step\n",
      "Predicted rainfall for 2018-01: 63.3929328918457\n"
     ]
    }
   ],
   "source": [
    "predicted_rainfall = predict_rainfall_with_year_month(model, scaler, 2018, 1)"
   ]
  },
  {
   "cell_type": "code",
   "execution_count": 38,
   "id": "4dfefae0-ab1c-4dda-8a23-4820c05471fa",
   "metadata": {},
   "outputs": [],
   "source": [
    "model.save('rain_model.keras')"
   ]
  },
  {
   "cell_type": "code",
   "execution_count": 39,
   "id": "921610dc-0a1d-47b2-9a26-865f447c41fc",
   "metadata": {},
   "outputs": [
    {
     "data": {
      "text/plain": [
       "['scaler.pkl']"
      ]
     },
     "execution_count": 39,
     "metadata": {},
     "output_type": "execute_result"
    }
   ],
   "source": [
    "import joblib\n",
    "joblib.dump(scaler, 'scaler.pkl')"
   ]
  },
  {
   "cell_type": "code",
   "execution_count": 40,
   "id": "7d198dfa-a664-4c41-b0bd-2219880574be",
   "metadata": {},
   "outputs": [
    {
     "name": "stdout",
     "output_type": "stream",
     "text": [
      "(None, 60, 1)\n"
     ]
    }
   ],
   "source": [
    "print(model.input_shape) "
   ]
  },
  {
   "cell_type": "code",
   "execution_count": 43,
   "id": "eb5cd7e7-6aa4-4447-98ff-ef84a7f1d926",
   "metadata": {},
   "outputs": [],
   "source": [
    "last_60_data = df.tail(60)\n",
    "last_60_data.to_csv('last_60_rainfall_data.csv')"
   ]
  }
 ],
 "metadata": {
  "kernelspec": {
   "display_name": "Python 3 (ipykernel)",
   "language": "python",
   "name": "python3"
  },
  "language_info": {
   "codemirror_mode": {
    "name": "ipython",
    "version": 3
   },
   "file_extension": ".py",
   "mimetype": "text/x-python",
   "name": "python",
   "nbconvert_exporter": "python",
   "pygments_lexer": "ipython3",
   "version": "3.11.5"
  }
 },
 "nbformat": 4,
 "nbformat_minor": 5
}

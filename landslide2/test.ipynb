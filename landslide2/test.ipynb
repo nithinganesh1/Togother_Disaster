{
 "cells": [
  {
   "cell_type": "code",
   "execution_count": 9,
   "id": "b0fcac72-bc3b-4d2a-a4f2-5722330406d1",
   "metadata": {},
   "outputs": [],
   "source": [
    " #default values"
   ]
  },
  {
   "cell_type": "code",
   "execution_count": 60,
   "id": "c4a6587f-508d-4afa-aee4-c05c466be598",
   "metadata": {},
   "outputs": [
    {
     "name": "stderr",
     "output_type": "stream",
     "text": [
      "C:\\Users\\HP\\anaconda3\\Lib\\site-packages\\sklearn\\base.py:347: InconsistentVersionWarning: Trying to unpickle estimator LogisticRegression from version 1.2.2 when using version 1.3.0. This might lead to breaking code or invalid results. Use at your own risk. For more info please refer to:\n",
      "https://scikit-learn.org/stable/model_persistence.html#security-maintainability-limitations\n",
      "  warnings.warn(\n"
     ]
    },
    {
     "data": {
      "text/html": [
       "<div>\n",
       "<style scoped>\n",
       "    .dataframe tbody tr th:only-of-type {\n",
       "        vertical-align: middle;\n",
       "    }\n",
       "\n",
       "    .dataframe tbody tr th {\n",
       "        vertical-align: top;\n",
       "    }\n",
       "\n",
       "    .dataframe thead th {\n",
       "        text-align: right;\n",
       "    }\n",
       "</style>\n",
       "<table border=\"1\" class=\"dataframe\">\n",
       "  <thead>\n",
       "    <tr style=\"text-align: right;\">\n",
       "      <th></th>\n",
       "      <th>height</th>\n",
       "      <th>slope</th>\n",
       "      <th>rainfall</th>\n",
       "    </tr>\n",
       "  </thead>\n",
       "  <tbody>\n",
       "    <tr>\n",
       "      <th>0</th>\n",
       "      <td>100.0</td>\n",
       "      <td>26.276745</td>\n",
       "      <td>100.051028</td>\n",
       "    </tr>\n",
       "  </tbody>\n",
       "</table>\n",
       "</div>"
      ],
      "text/plain": [
       "   height      slope    rainfall\n",
       "0   100.0  26.276745  100.051028"
      ]
     },
     "execution_count": 60,
     "metadata": {},
     "output_type": "execute_result"
    }
   ],
   "source": [
    "import pickle\n",
    "with open('model.pkl', 'rb') as file:\n",
    "    model = pickle.load(file)\n",
    "\n",
    "import pandas as pd\n",
    "import numpy as np\n",
    "\n",
    "height,slope,rainfall = 100.000000,26.276745,100.051028 #default values its input\n",
    "\n",
    "test = {\n",
    "    'height': [height],\n",
    "    'slope': [slope],\n",
    "    'rainfall': [rainfall]\n",
    "}\n",
    "\n",
    "test = pd.DataFrame(test)\n",
    "test.head()"
   ]
  },
  {
   "cell_type": "code",
   "execution_count": 61,
   "id": "ea80cd4a-ec93-42e5-9bdf-5be2d4542b46",
   "metadata": {},
   "outputs": [],
   "source": [
    "y_pred=model.predict(test)"
   ]
  },
  {
   "cell_type": "code",
   "execution_count": 62,
   "id": "97396bef-1428-4d6f-a0da-633d9f35b8e1",
   "metadata": {},
   "outputs": [
    {
     "data": {
      "text/plain": [
       "array([1], dtype=int64)"
      ]
     },
     "execution_count": 62,
     "metadata": {},
     "output_type": "execute_result"
    }
   ],
   "source": [
    "y_pred"
   ]
  },
  {
   "cell_type": "code",
   "execution_count": 63,
   "id": "9ac0b86d-9626-454e-a6a4-fcd72b9109b5",
   "metadata": {},
   "outputs": [
    {
     "name": "stdout",
     "output_type": "stream",
     "text": [
      "found landslide risks\n"
     ]
    }
   ],
   "source": [
    "if y_pred[0] == 0:\n",
    "    print(\"no landslide risks\")\n",
    "else:\n",
    "    print(\"found landslide risks\")"
   ]
  },
  {
   "cell_type": "code",
   "execution_count": 66,
   "id": "0bc222eb-eeaa-403b-bb87-56e689fee294",
   "metadata": {},
   "outputs": [
    {
     "name": "stdout",
     "output_type": "stream",
     "text": [
      "Probabilities in percentage:\n",
      " [[  0. 100.]]\n"
     ]
    }
   ],
   "source": [
    "y_pred_proba = model.predict_proba(test)"
   ]
  },
  {
   "cell_type": "code",
   "execution_count": 67,
   "id": "6d8807d7-de73-445d-a931-a0bced6b67bf",
   "metadata": {},
   "outputs": [
    {
     "name": "stdout",
     "output_type": "stream",
     "text": [
      "[[  0. 100.]]\n"
     ]
    }
   ],
   "source": [
    "y_pred_percent = np.round(model.predict_proba(test) * 100, 1)\n",
    "print(y_pred_percent)"
   ]
  },
  {
   "cell_type": "code",
   "execution_count": null,
   "id": "c4de398f-3a34-41a1-8cee-0916f165575e",
   "metadata": {},
   "outputs": [],
   "source": []
  },
  {
   "cell_type": "code",
   "execution_count": null,
   "id": "5e30dda6-4b97-4bda-9dbb-365f3439e9a6",
   "metadata": {},
   "outputs": [],
   "source": []
  }
 ],
 "metadata": {
  "kernelspec": {
   "display_name": "Python 3 (ipykernel)",
   "language": "python",
   "name": "python3"
  },
  "language_info": {
   "codemirror_mode": {
    "name": "ipython",
    "version": 3
   },
   "file_extension": ".py",
   "mimetype": "text/x-python",
   "name": "python",
   "nbconvert_exporter": "python",
   "pygments_lexer": "ipython3",
   "version": "3.11.5"
  }
 },
 "nbformat": 4,
 "nbformat_minor": 5
}

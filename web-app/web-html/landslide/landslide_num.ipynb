{
 "cells": [
  {
   "cell_type": "code",
   "execution_count": 23,
   "id": "ed14e01d-5d9e-4f15-a757-286dea4795da",
   "metadata": {},
   "outputs": [],
   "source": [
    "import numpy as np\n",
    "import pandas as pd\n",
    "import seaborn as sns\n",
    "import matplotlib.pyplot as plt\n",
    "from sklearn.model_selection import train_test_split\n",
    "from sklearn.linear_model import LogisticRegression\n",
    "from sklearn.svm import SVC\n",
    "from sklearn.tree import DecisionTreeClassifier\n",
    "from sklearn.metrics import accuracy_score,precision_score,f1_score"
   ]
  },
  {
   "cell_type": "code",
   "execution_count": 25,
   "id": "64ff350e-60e3-4f9c-bd39-d08d303b0777",
   "metadata": {},
   "outputs": [
    {
     "data": {
      "text/html": [
       "<div>\n",
       "<style scoped>\n",
       "    .dataframe tbody tr th:only-of-type {\n",
       "        vertical-align: middle;\n",
       "    }\n",
       "\n",
       "    .dataframe tbody tr th {\n",
       "        vertical-align: top;\n",
       "    }\n",
       "\n",
       "    .dataframe thead th {\n",
       "        text-align: right;\n",
       "    }\n",
       "</style>\n",
       "<table border=\"1\" class=\"dataframe\">\n",
       "  <thead>\n",
       "    <tr style=\"text-align: right;\">\n",
       "      <th></th>\n",
       "      <th>height</th>\n",
       "      <th>slope</th>\n",
       "      <th>rainfall</th>\n",
       "      <th>landslide</th>\n",
       "    </tr>\n",
       "  </thead>\n",
       "  <tbody>\n",
       "    <tr>\n",
       "      <th>0</th>\n",
       "      <td>13.0</td>\n",
       "      <td>10.000</td>\n",
       "      <td>248.92</td>\n",
       "      <td>1</td>\n",
       "    </tr>\n",
       "    <tr>\n",
       "      <th>1</th>\n",
       "      <td>65.0</td>\n",
       "      <td>12.000</td>\n",
       "      <td>100.60</td>\n",
       "      <td>1</td>\n",
       "    </tr>\n",
       "    <tr>\n",
       "      <th>2</th>\n",
       "      <td>53.0</td>\n",
       "      <td>14.870</td>\n",
       "      <td>77.98</td>\n",
       "      <td>1</td>\n",
       "    </tr>\n",
       "    <tr>\n",
       "      <th>3</th>\n",
       "      <td>133.0</td>\n",
       "      <td>18.000</td>\n",
       "      <td>248.92</td>\n",
       "      <td>1</td>\n",
       "    </tr>\n",
       "    <tr>\n",
       "      <th>4</th>\n",
       "      <td>63.0</td>\n",
       "      <td>12.456</td>\n",
       "      <td>20.00</td>\n",
       "      <td>0</td>\n",
       "    </tr>\n",
       "  </tbody>\n",
       "</table>\n",
       "</div>"
      ],
      "text/plain": [
       "   height   slope  rainfall  landslide\n",
       "0    13.0  10.000    248.92          1\n",
       "1    65.0  12.000    100.60          1\n",
       "2    53.0  14.870     77.98          1\n",
       "3   133.0  18.000    248.92          1\n",
       "4    63.0  12.456     20.00          0"
      ]
     },
     "execution_count": 25,
     "metadata": {},
     "output_type": "execute_result"
    }
   ],
   "source": [
    "data=pd.read_csv(\"landslide.csv\")\n",
    "data.head()"
   ]
  },
  {
   "cell_type": "code",
   "execution_count": 27,
   "id": "35b05dd5-4968-463a-8617-ed7b9592daa0",
   "metadata": {},
   "outputs": [
    {
     "name": "stdout",
     "output_type": "stream",
     "text": [
      "<class 'pandas.core.frame.DataFrame'>\n",
      "RangeIndex: 147 entries, 0 to 146\n",
      "Data columns (total 4 columns):\n",
      " #   Column     Non-Null Count  Dtype  \n",
      "---  ------     --------------  -----  \n",
      " 0   height     147 non-null    float64\n",
      " 1   slope      147 non-null    float64\n",
      " 2   rainfall   147 non-null    float64\n",
      " 3   landslide  147 non-null    int64  \n",
      "dtypes: float64(3), int64(1)\n",
      "memory usage: 4.7 KB\n"
     ]
    }
   ],
   "source": [
    "data.info()"
   ]
  },
  {
   "cell_type": "code",
   "execution_count": 29,
   "id": "8acd15c8-cb6c-48f0-beeb-1dd579dd8e1b",
   "metadata": {},
   "outputs": [
    {
     "data": {
      "text/html": [
       "<div>\n",
       "<style scoped>\n",
       "    .dataframe tbody tr th:only-of-type {\n",
       "        vertical-align: middle;\n",
       "    }\n",
       "\n",
       "    .dataframe tbody tr th {\n",
       "        vertical-align: top;\n",
       "    }\n",
       "\n",
       "    .dataframe thead th {\n",
       "        text-align: right;\n",
       "    }\n",
       "</style>\n",
       "<table border=\"1\" class=\"dataframe\">\n",
       "  <thead>\n",
       "    <tr style=\"text-align: right;\">\n",
       "      <th></th>\n",
       "      <th>height</th>\n",
       "      <th>slope</th>\n",
       "      <th>rainfall</th>\n",
       "      <th>landslide</th>\n",
       "    </tr>\n",
       "  </thead>\n",
       "  <tbody>\n",
       "    <tr>\n",
       "      <th>count</th>\n",
       "      <td>147.000000</td>\n",
       "      <td>147.000000</td>\n",
       "      <td>147.000000</td>\n",
       "      <td>147.000000</td>\n",
       "    </tr>\n",
       "    <tr>\n",
       "      <th>mean</th>\n",
       "      <td>82.559932</td>\n",
       "      <td>20.638776</td>\n",
       "      <td>89.348211</td>\n",
       "      <td>0.537415</td>\n",
       "    </tr>\n",
       "    <tr>\n",
       "      <th>std</th>\n",
       "      <td>45.491600</td>\n",
       "      <td>8.767170</td>\n",
       "      <td>78.054820</td>\n",
       "      <td>0.500303</td>\n",
       "    </tr>\n",
       "    <tr>\n",
       "      <th>min</th>\n",
       "      <td>13.000000</td>\n",
       "      <td>8.100000</td>\n",
       "      <td>0.000000</td>\n",
       "      <td>0.000000</td>\n",
       "    </tr>\n",
       "    <tr>\n",
       "      <th>25%</th>\n",
       "      <td>52.745000</td>\n",
       "      <td>12.728000</td>\n",
       "      <td>23.860000</td>\n",
       "      <td>0.000000</td>\n",
       "    </tr>\n",
       "    <tr>\n",
       "      <th>50%</th>\n",
       "      <td>78.740000</td>\n",
       "      <td>18.880000</td>\n",
       "      <td>77.000000</td>\n",
       "      <td>1.000000</td>\n",
       "    </tr>\n",
       "    <tr>\n",
       "      <th>75%</th>\n",
       "      <td>98.000000</td>\n",
       "      <td>28.945000</td>\n",
       "      <td>134.000000</td>\n",
       "      <td>1.000000</td>\n",
       "    </tr>\n",
       "    <tr>\n",
       "      <th>max</th>\n",
       "      <td>223.090000</td>\n",
       "      <td>48.000000</td>\n",
       "      <td>248.920000</td>\n",
       "      <td>1.000000</td>\n",
       "    </tr>\n",
       "  </tbody>\n",
       "</table>\n",
       "</div>"
      ],
      "text/plain": [
       "           height       slope    rainfall   landslide\n",
       "count  147.000000  147.000000  147.000000  147.000000\n",
       "mean    82.559932   20.638776   89.348211    0.537415\n",
       "std     45.491600    8.767170   78.054820    0.500303\n",
       "min     13.000000    8.100000    0.000000    0.000000\n",
       "25%     52.745000   12.728000   23.860000    0.000000\n",
       "50%     78.740000   18.880000   77.000000    1.000000\n",
       "75%     98.000000   28.945000  134.000000    1.000000\n",
       "max    223.090000   48.000000  248.920000    1.000000"
      ]
     },
     "execution_count": 29,
     "metadata": {},
     "output_type": "execute_result"
    }
   ],
   "source": [
    "data.describe()"
   ]
  },
  {
   "cell_type": "code",
   "execution_count": 45,
   "id": "d71ea930-0bfd-4737-be0a-73138ba1bd62",
   "metadata": {},
   "outputs": [
    {
     "data": {
      "text/html": [
       "<div>\n",
       "<style scoped>\n",
       "    .dataframe tbody tr th:only-of-type {\n",
       "        vertical-align: middle;\n",
       "    }\n",
       "\n",
       "    .dataframe tbody tr th {\n",
       "        vertical-align: top;\n",
       "    }\n",
       "\n",
       "    .dataframe thead th {\n",
       "        text-align: right;\n",
       "    }\n",
       "</style>\n",
       "<table border=\"1\" class=\"dataframe\">\n",
       "  <thead>\n",
       "    <tr style=\"text-align: right;\">\n",
       "      <th></th>\n",
       "      <th>height</th>\n",
       "      <th>slope</th>\n",
       "      <th>rainfall</th>\n",
       "      <th>landslide</th>\n",
       "    </tr>\n",
       "  </thead>\n",
       "  <tbody>\n",
       "    <tr>\n",
       "      <th>height</th>\n",
       "      <td>1.000000</td>\n",
       "      <td>0.276745</td>\n",
       "      <td>0.051028</td>\n",
       "      <td>-0.001930</td>\n",
       "    </tr>\n",
       "    <tr>\n",
       "      <th>slope</th>\n",
       "      <td>0.276745</td>\n",
       "      <td>1.000000</td>\n",
       "      <td>-0.066907</td>\n",
       "      <td>0.100330</td>\n",
       "    </tr>\n",
       "    <tr>\n",
       "      <th>rainfall</th>\n",
       "      <td>0.051028</td>\n",
       "      <td>-0.066907</td>\n",
       "      <td>1.000000</td>\n",
       "      <td>0.785577</td>\n",
       "    </tr>\n",
       "    <tr>\n",
       "      <th>landslide</th>\n",
       "      <td>-0.001930</td>\n",
       "      <td>0.100330</td>\n",
       "      <td>0.785577</td>\n",
       "      <td>1.000000</td>\n",
       "    </tr>\n",
       "  </tbody>\n",
       "</table>\n",
       "</div>"
      ],
      "text/plain": [
       "             height     slope  rainfall  landslide\n",
       "height     1.000000  0.276745  0.051028  -0.001930\n",
       "slope      0.276745  1.000000 -0.066907   0.100330\n",
       "rainfall   0.051028 -0.066907  1.000000   0.785577\n",
       "landslide -0.001930  0.100330  0.785577   1.000000"
      ]
     },
     "execution_count": 45,
     "metadata": {},
     "output_type": "execute_result"
    }
   ],
   "source": [
    "data.corr()"
   ]
  },
  {
   "cell_type": "code",
   "execution_count": 31,
   "id": "7f339916-e869-4c14-8725-6b295beb80ae",
   "metadata": {},
   "outputs": [
    {
     "data": {
      "text/plain": [
       "((147, 3), (147,))"
      ]
     },
     "execution_count": 31,
     "metadata": {},
     "output_type": "execute_result"
    }
   ],
   "source": [
    "#here there is no missing values and significant outliers so we proceed with train test split\n",
    "x=data.drop('landslide',axis=1)\n",
    "y=data[\"landslide\"]\n",
    "x.shape,y.shape"
   ]
  },
  {
   "cell_type": "code",
   "execution_count": 33,
   "id": "bfaad90a-10c9-4380-b04f-30083c8db7eb",
   "metadata": {},
   "outputs": [],
   "source": [
    "x_train,x_test,y_train,y_test=train_test_split(x,y,test_size=0.2,random_state=42)"
   ]
  },
  {
   "cell_type": "code",
   "execution_count": 35,
   "id": "fff077ff-9cbb-4631-ace2-7ca2633fb8b2",
   "metadata": {},
   "outputs": [
    {
     "data": {
      "text/plain": [
       "((117, 3), (30, 3), (117,), (30,))"
      ]
     },
     "execution_count": 35,
     "metadata": {},
     "output_type": "execute_result"
    }
   ],
   "source": [
    "x_train.shape,x_test.shape,y_train.shape,y_test.shape"
   ]
  },
  {
   "cell_type": "code",
   "execution_count": 47,
   "id": "5790e078-1302-4747-bdd2-5cf60060975a",
   "metadata": {},
   "outputs": [
    {
     "name": "stdout",
     "output_type": "stream",
     "text": [
      "Accuracy :  0.9666666666666667\n",
      "Precision:  0.95\n",
      "F1_Score: 0.9743589743589743\n"
     ]
    }
   ],
   "source": [
    "#logistic regression\n",
    "log=LogisticRegression()\n",
    "model1=log.fit(x_train,y_train)\n",
    "y_pred=model1.predict(x_test)\n",
    "print(\"Accuracy : \",accuracy_score(y_test,y_pred))\n",
    "print(\"Precision: \",precision_score(y_test,y_pred))\n",
    "print(\"F1_Score:\",f1_score(y_test,y_pred))"
   ]
  },
  {
   "cell_type": "code",
   "execution_count": 49,
   "id": "f218d7c3-2162-4198-9900-1f753b86f19d",
   "metadata": {},
   "outputs": [
    {
     "name": "stdout",
     "output_type": "stream",
     "text": [
      "Accuracy :  0.9666666666666667\n",
      "Precision:  0.95\n",
      "F1_Score: 0.9743589743589743\n"
     ]
    }
   ],
   "source": [
    "dt=DecisionTreeClassifier()\n",
    "model2=dt.fit(x_train,y_train)\n",
    "y_pred=model2.predict(x_test)\n",
    "print(\"Accuracy : \",accuracy_score(y_test,y_pred))\n",
    "print(\"Precision: \",precision_score(y_test,y_pred))\n",
    "print(\"F1_Score:\",f1_score(y_test,y_pred))"
   ]
  },
  {
   "cell_type": "code",
   "execution_count": 51,
   "id": "6671142e-fcfb-4fa8-bcf8-9b3ea08b5291",
   "metadata": {},
   "outputs": [
    {
     "name": "stdout",
     "output_type": "stream",
     "text": [
      "Accuracy :  0.9666666666666667\n",
      "Precision:  0.95\n",
      "F1_Score: 0.9743589743589743\n"
     ]
    }
   ],
   "source": [
    "svm=SVC()\n",
    "model3=svm.fit(x_train,y_train)\n",
    "y_pred=model3.predict(x_test)\n",
    "print(\"Accuracy : \",accuracy_score(y_test,y_pred))\n",
    "print(\"Precision: \",precision_score(y_test,y_pred))\n",
    "print(\"F1_Score:\",f1_score(y_test,y_pred))"
   ]
  },
  {
   "cell_type": "code",
   "execution_count": 55,
   "id": "6c00bdab-2c7e-4afa-b5e9-72dd8b5f3e81",
   "metadata": {},
   "outputs": [],
   "source": [
    "#These classification models gives almost same value for the evaluation metrics so we randomly choose \n",
    "#logistic regression as our model\n",
    "import pickle\n",
    "# Save the model to a file\n",
    "with open('model.pkl', 'wb') as file:\n",
    "    pickle.dump(model1, file)\n"
   ]
  },
  {
   "cell_type": "code",
   "execution_count": null,
   "id": "5de3857b-64bb-4f3f-b3e6-1e27e3394401",
   "metadata": {},
   "outputs": [],
   "source": []
  }
 ],
 "metadata": {
  "kernelspec": {
   "display_name": "Python 3 (ipykernel)",
   "language": "python",
   "name": "python3"
  },
  "language_info": {
   "codemirror_mode": {
    "name": "ipython",
    "version": 3
   },
   "file_extension": ".py",
   "mimetype": "text/x-python",
   "name": "python",
   "nbconvert_exporter": "python",
   "pygments_lexer": "ipython3",
   "version": "3.11.7"
  }
 },
 "nbformat": 4,
 "nbformat_minor": 5
}

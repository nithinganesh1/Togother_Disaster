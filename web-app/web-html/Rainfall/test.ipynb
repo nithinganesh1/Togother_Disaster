{
 "cells": [
  {
   "cell_type": "code",
   "execution_count": 17,
   "id": "53a5ed9d-1452-4ba7-82a1-854d396c80b6",
   "metadata": {},
   "outputs": [],
   "source": [
    "import joblib\n",
    "scaler = joblib.load('scaler.save')\n",
    "model = load_model('rain_model.keras')"
   ]
  },
  {
   "cell_type": "code",
   "execution_count": 18,
   "id": "dc496d53-cc79-4aa0-8668-080f0808ecb9",
   "metadata": {},
   "outputs": [],
   "source": [
    "def predict_rainfall_with_year_month(model, scaler, last_month_data, year, month):\n",
    "    # Assuming last_month_data is a list/array of the last 60 months' rainfall values\n",
    "    max_year = 2050  \n",
    "    min_year = 2006 \n",
    "    \n",
    "    # Normalize the year and month (not used in LSTM, but kept for reference)\n",
    "    year_norm = (year - min_year) / (max_year - min_year)  \n",
    "    month_norm = month / 12  \n",
    "    \n",
    "    # Prepare input sequence by appending year and month normalization (if necessary)\n",
    "    # However, for LSTM, we primarily focus on the last 60 months\n",
    "    input_sequence = np.array(last_month_data).reshape(1, 60, 1)\n",
    "    \n",
    "    # Predict the rainfall using the model\n",
    "    predicted_scaled = model.predict(input_sequence)\n",
    "    predicted_value = scaler.inverse_transform(predicted_scaled)[0][0]\n",
    "    print(f\"Predicted rainfall for {year}-{month:02}: {predicted_value}\")\n",
    "    return predicted_value"
   ]
  },
  {
   "cell_type": "code",
   "execution_count": 19,
   "id": "b0ba43a6-4864-458c-a85a-1055d36cae7e",
   "metadata": {},
   "outputs": [
    {
     "name": "stdout",
     "output_type": "stream",
     "text": [
      "1/1 [==============================] - 1s 1s/step\n",
      "Predicted rainfall: 30.21472930908203\n"
     ]
    }
   ],
   "source": [
    "import pandas as pd\n",
    "import numpy as np\n",
    "from sklearn.preprocessing import MinMaxScaler\n",
    "\n",
    "# Load the rainfall data from CSV\n",
    "last_month_data = pd.read_csv('last_60_rainfall_data.csv', index_col=0)\n",
    "\n",
    "# Normalize the data using Min-Max scaling\n",
    "scaler = MinMaxScaler()\n",
    "normalized_data = scaler.fit_transform(last_month_data)\n",
    "\n",
    "# Select the last 60 months of normalized data\n",
    "# Make sure you only take the last 60 rows\n",
    "last_60_normalized = normalized_data[-60:].flatten()  # Flatten to make it 1D array\n",
    "\n",
    "# Prepare input sequence for the model\n",
    "input_sequence = last_60_normalized.reshape(1, 60, 1)  # Reshape to (1, 60, 1)\n",
    "\n",
    "# Predict rainfall (assumes model is already loaded)\n",
    "predicted_scaled = model.predict(input_sequence)\n",
    "predicted_value = scaler.inverse_transform(predicted_scaled)[0][0]\n",
    "print(f\"Predicted rainfall: {predicted_value}\")"
   ]
  }
 ],
 "metadata": {
  "kernelspec": {
   "display_name": "Python 3 (ipykernel)",
   "language": "python",
   "name": "python3"
  },
  "language_info": {
   "codemirror_mode": {
    "name": "ipython",
    "version": 3
   },
   "file_extension": ".py",
   "mimetype": "text/x-python",
   "name": "python",
   "nbconvert_exporter": "python",
   "pygments_lexer": "ipython3",
   "version": "3.11.5"
  }
 },
 "nbformat": 4,
 "nbformat_minor": 5
}
